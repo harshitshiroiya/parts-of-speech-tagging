{
 "cells": [
  {
   "cell_type": "markdown",
   "id": "3c3c4bcd",
   "metadata": {},
   "source": [
    "## Problem 1: Expectation-Maximization Algorithm for Clustering\n",
    "\n",
    "    Implement expectation-maximization algorithm for Gaussian mixture models (see the EM algorithm below) in Python and call this program Gk. As you present your code explain your protocol for \n",
    "    1. initializing each Gaussian\n",
    "    2. deciding ties\n",
    "    3. stopping criteria"
   ]
  },
  {
   "cell_type": "markdown",
   "id": "59c01cdf",
   "metadata": {},
   "source": [
    "## Problem 2: Analysis of the EM over Real-world Data Sets\n",
    "\n",
    "    Run your EM program, Gk, against the Ringnorm and Ionosphere data sets. Discuss your\n",
    "    results.\n",
    "    • Ringnorm Data Set\n",
    "    • Ionosphere Data Set\n",
    "    Run Gk with k = 2, . . . , 5 (20 runs each for each k). Report error rates and iteration counts\n",
    "    for each k using whisker plots. An example of whisker can be found in the appendix.\n",
    "    A simple error rate can be calculated as follows:\n",
    "    • After Gk converges, combine the clusters to ended up with two clusters for any k as "
   ]
  },
  {
   "cell_type": "markdown",
   "id": "8dc6dcf6",
   "metadata": {},
   "source": [
    "## Problem 3: Algorithm Design\n",
    "\n",
    "### Problem 3.1\n",
    "    Given a text D and a pattern P, describe an Ω(d+p) time method for finding the longest prefix of P that is a substring of D. The lengths of D and P are d and p, respectively."
   ]
  },
  {
   "cell_type": "code",
   "execution_count": 38,
   "id": "53e7a0eb",
   "metadata": {},
   "outputs": [
    {
     "name": "stdout",
     "output_type": "stream",
     "text": [
      "good 4\n",
      "avcdf 5\n"
     ]
    }
   ],
   "source": [
    "def process_pattern(P):\n",
    "    x = 0\n",
    "    y = len(P) - 1\n",
    "    pattern = [0]*len(P)\n",
    "    for i in range(1,len(P)):\n",
    "        if P[x] == P[i]:\n",
    "            x+=1\n",
    "            pattern[i] = x\n",
    "        else:\n",
    "            while(x > 0 and pattern[x-1]!=pattern[i]):\n",
    "                x-=1\n",
    "            pattern[i] = x\n",
    "    return pattern\n",
    "\n",
    "def searching_pattern(T, P):\n",
    "    n, m = len(T), len(P)\n",
    "    i = 0\n",
    "    j = 0\n",
    "    max_len = 0\n",
    "    pattern = process_pattern(P)\n",
    "    while i < n:\n",
    "        if T[i] == P[j]:\n",
    "            i +=1\n",
    "            j +=1\n",
    "            max_len=max(j,max_len)\n",
    "        else:\n",
    "            while(j>0 and pattern[j]!=T[i]):\n",
    "                j = pattern[j-1]\n",
    "            if(P[j]!=T[i] and j==0):\n",
    "                i+=1\n",
    "        if(j==len(P)):\n",
    "            return P[:len(P)]\n",
    "    return P[:max_len]\n",
    "\n",
    "T = 'This is a good code.'\n",
    "P = 'good'\n",
    "print(searching_pattern(T,P),len(searching_pattern(T,P)))\n",
    "\n",
    "T1 = 'aaaabbbbbhhhggghggavcdfgh'\n",
    "P1 = 'avcdf'\n",
    "print(searching_pattern(T1,P1),len(searching_pattern(T1,P1)))"
   ]
  },
  {
   "cell_type": "markdown",
   "id": "eb0d751a",
   "metadata": {},
   "source": [
    "### Problem 3.2   \n",
    "    X, Y, and Z are three arrays and each has m elements. For an arbitrary integer t, describe O(m^2 logm)-time algorithm to determine if there exist numbers, x in X, y in Y, and z in Z, such that t = x+y+z."
   ]
  },
  {
   "cell_type": "markdown",
   "id": "4249ed96",
   "metadata": {},
   "source": [
    "### Solution:\n",
    "```\n",
    "We have three lists (X, Y, Z). We arranged the third list Z in sorted . Then we went through  X and  Y. Finally, in the last list, we find the value c = t-X[i]-Y[j], where i and j are indexes in lists X and Y. We find c in  Z using Binary Search. If it is present, we return True; otherwise, we return False. This algorithm's total time complexity is O(m2logm+mlogm) = O(m2logm).  m logm is used to sort the third list.\n",
    "```"
   ]
  },
  {
   "cell_type": "code",
   "execution_count": 35,
   "id": "cf3d7f0c",
   "metadata": {},
   "outputs": [
    {
     "name": "stdout",
     "output_type": "stream",
     "text": [
      "7 3 0\n"
     ]
    },
    {
     "data": {
      "text/plain": [
       "True"
      ]
     },
     "execution_count": 35,
     "metadata": {},
     "output_type": "execute_result"
    }
   ],
   "source": [
    "def binary_search (A, l, r, x):\n",
    "    if r >= l:\n",
    "        mid = l + (r - l) // 2\n",
    "        if A[mid] == x:\n",
    "            return True\n",
    "        elif A[mid] > x:\n",
    "            return binary_search(A, l, mid-1, x)\n",
    "        else:\n",
    "            return binary_search(A, mid + 1, r, x)\n",
    "    else:\n",
    "        return False\n",
    "\n",
    "def find_triplet(X,Y,Z,t):\n",
    "    Z.sort()\n",
    "    for i in range(len(X)):\n",
    "        a = X[i]\n",
    "        for j in range(len(Y)):\n",
    "            b = Y[j]\n",
    "            if(binary_search(Z,0,len(Z)-1,t-a-b)):\n",
    "                print(a,b,t-a-b)\n",
    "                return True\n",
    "    return False\n",
    "\n",
    "X = [7,6,3,4,8,4,1]\n",
    "Y = [1,8,3,5,7,6,2]\n",
    "Z = [0,7,3,6,4,8,4]\n",
    "T = 10\n",
    "\n",
    "find_triplet(X,Y,Z,T)"
   ]
  },
  {
   "cell_type": "markdown",
   "id": "159b4408",
   "metadata": {},
   "source": [
    "### Problem 3.3\n",
    "    Describe an efficient algorithm for deleting a string from a compressed trie and analyze its running time."
   ]
  },
  {
   "cell_type": "markdown",
   "id": "04ae882a",
   "metadata": {},
   "source": [
    "### Algorithm : \n",
    " \n",
    "Input: Compressed Trie = T\n",
    "       String = s\n",
    "\n",
    "Output: T without s \n",
    "\n",
    "\n",
    "```\n",
    "Compressed_tries_deletion(T, s)\n",
    "  if s not in T \n",
    "    then return False\n",
    "  else \n",
    "    let u be the node where s was found \n",
    "    \n",
    "    if s is not equal to the whole string ended at u or u has a child \n",
    "        return False // we cannot delete an internal node \n",
    "    let v be the parent of u \n",
    "    delete u \n",
    "    if v has a child c then\n",
    "        v.string = v.string + c.string \n",
    "        merge v and c into a single node \n",
    "  return Succesful Deletion\n",
    "```\n",
    "The Time complexity for the algorithm designed for deletion of a string in a compressed trie is O(N)\n",
    "#### Example:\n",
    "\n",
    "Let T contains words: {'Harshit','Bloomington','Indiana','USA','Canada'}\n",
    "\n",
    "To do : Delete Canada\n",
    "\n",
    "So, first, we will crawl from root to n of Canada, checking whether or not all of the letters of Canada are present.\n",
    "Let v be the parent of Canada's node n.\n",
    "We will delete n once we reach n.\n",
    "If v has a child named c, merge c with v and delete c.\n",
    "We will delete the n,e, and r of the string Canada because it has no children.\n",
    "\n",
    "Compressed Trie: {'Harshit','Bloomington','Indiana','USA'}"
   ]
  },
  {
   "cell_type": "code",
   "execution_count": null,
   "id": "1d420273",
   "metadata": {},
   "outputs": [],
   "source": []
  }
 ],
 "metadata": {
  "kernelspec": {
   "display_name": "Python 3",
   "language": "python",
   "name": "python3"
  },
  "language_info": {
   "codemirror_mode": {
    "name": "ipython",
    "version": 3
   },
   "file_extension": ".py",
   "mimetype": "text/x-python",
   "name": "python",
   "nbconvert_exporter": "python",
   "pygments_lexer": "ipython3",
   "version": "3.8.8"
  }
 },
 "nbformat": 4,
 "nbformat_minor": 5
}
